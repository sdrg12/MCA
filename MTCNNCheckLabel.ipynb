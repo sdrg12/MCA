{
  "cells": [
    {
      "cell_type": "code",
      "execution_count": null,
      "metadata": {
        "colab": {
          "base_uri": "https://localhost:8080/",
          "height": 400
        },
        "id": "B-sWRtRF8i6B",
        "outputId": "19cb7389-645b-4b97-9e24-40e11b2182c9"
      },
      "outputs": [],
      "source": [
        "# !pip install facenet-pytorch --quiet"
      ]
    },
    {
      "cell_type": "code",
      "execution_count": null,
      "metadata": {},
      "outputs": [],
      "source": [
        "# 원본 사진 파일 불러오기\n",
        "from google.colab import files\n",
        "uploaded = files.upload()\n",
        "!unzip -q part1.zip -d ./part1\n",
        "!unzip -q part1_labels.zip -d part1_labels"
      ]
    },
    {
      "cell_type": "code",
      "execution_count": null,
      "metadata": {},
      "outputs": [],
      "source": [
        "# 시각화\n",
        "import os\n",
        "import random\n",
        "from PIL import Image, ImageDraw\n",
        "import matplotlib.pyplot as plt"
      ]
    },
    {
      "cell_type": "code",
      "execution_count": null,
      "metadata": {},
      "outputs": [],
      "source": [
        "# 경로 설정\n",
        "img_folder = 'part1'\n",
        "label_folder = 'part1_labels'\n",
        "\n",
        "# 이미지 및 라벨 파일 목록\n",
        "img_files = [f for f in os.listdir(img_folder) if f.endswith('.jpg')]\n",
        "random.shuffle(img_files)\n",
        "sample_files = img_files[:100]"
      ]
    },
    {
      "cell_type": "code",
      "execution_count": null,
      "metadata": {},
      "outputs": [],
      "source": [
        "# 시각화 함수\n",
        "def visualize_yolo_box(img, labels, img_size):\n",
        "    draw = ImageDraw.Draw(img)\n",
        "    for label in labels:\n",
        "        cls, x_center, y_center, w, h = map(float, label.strip().split())\n",
        "        img_w, img_h = img_size\n",
        "        x1 = int((x_center - w / 2) * img_w)\n",
        "        y1 = int((y_center - h / 2) * img_h)\n",
        "        x2 = int((x_center + w / 2) * img_w)\n",
        "        y2 = int((y_center + h / 2) * img_h)\n",
        "        draw.rectangle([x1, y1, x2, y2], outline=\"red\", width=2)\n",
        "    return img"
      ]
    },
    {
      "cell_type": "code",
      "execution_count": null,
      "metadata": {},
      "outputs": [],
      "source": [
        "# 결과 시각화\n",
        "num_cols = 5\n",
        "num_rows = (len(sample_files) + num_cols - 1) // num_cols\n",
        "plt.figure(figsize=(15, 3 * num_rows))\n",
        "\n",
        "for idx, img_name in enumerate(sample_files):\n",
        "    img_path = os.path.join(img_folder, img_name)\n",
        "    label_path = os.path.join(label_folder, img_name.replace('.jpg', '.txt'))\n",
        "\n",
        "    if not os.path.exists(label_path):\n",
        "        continue\n",
        "\n",
        "    img = Image.open(img_path).convert('RGB')\n",
        "    with open(label_path, 'r') as f:\n",
        "        labels = f.readlines()\n",
        "\n",
        "    img_with_box = visualize_yolo_box(img.copy(), labels, img.size)\n",
        "\n",
        "    plt.subplot(num_rows, num_cols, idx + 1)\n",
        "    plt.imshow(img_with_box)\n",
        "    plt.title(img_name, fontsize=8)\n",
        "    plt.axis('off')\n",
        "\n",
        "plt.tight_layout()\n",
        "plt.show()"
      ]
    }
  ],
  "metadata": {
    "colab": {
      "provenance": []
    },
    "kernelspec": {
      "display_name": "Python 3",
      "name": "python3"
    },
    "language_info": {
      "name": "python"
    }
  },
  "nbformat": 4,
  "nbformat_minor": 0
}
