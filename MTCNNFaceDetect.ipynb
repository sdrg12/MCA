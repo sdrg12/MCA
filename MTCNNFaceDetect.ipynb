{
  "cells": [
    {
      "cell_type": "code",
      "execution_count": null,
      "metadata": {
        "colab": {
          "base_uri": "https://localhost:8080/",
          "height": 400
        },
        "id": "B-sWRtRF8i6B",
        "outputId": "19cb7389-645b-4b97-9e24-40e11b2182c9"
      },
      "outputs": [],
      "source": [
        "# !pip install facenet-pytorch matplotlib"
      ]
    },
    {
      "cell_type": "code",
      "execution_count": null,
      "metadata": {},
      "outputs": [],
      "source": [
        "from google.colab import files\n",
        "uploaded = files.upload()\n",
        "!unzip -q part1.zip -d ./part1"
      ]
    },
    {
      "cell_type": "code",
      "execution_count": null,
      "metadata": {},
      "outputs": [],
      "source": [
        "import os\n",
        "import random\n",
        "from PIL import Image\n",
        "import matplotlib.pyplot as plt\n",
        "from facenet_pytorch import MTCNN\n",
        "import torch\n",
        "\n",
        "# MTCNN 초기화 (GPU 사용 가능하면 GPU 사용)\n",
        "device = torch.device('cuda' if torch.cuda.is_available() else 'cpu')\n",
        "mtcnn = MTCNN(image_size=160, margin=20, keep_all=False, device=device)"
      ]
    },
    {
      "cell_type": "code",
      "execution_count": null,
      "metadata": {},
      "outputs": [],
      "source": [
        "# 이미지 폴더 경로\n",
        "img_folder = 'part1'\n",
        "\n",
        "# part1 폴더 내 jpg 파일 리스트\n",
        "img_files = [f for f in os.listdir(img_folder) if f.lower().endswith('.jpg')]\n",
        "\n",
        "# 랜덤으로 12개 선택\n",
        "sample_files = random.sample(img_files, 12)"
      ]
    },
    {
      "cell_type": "code",
      "execution_count": null,
      "metadata": {},
      "outputs": [],
      "source": [
        "cropped_faces = []\n",
        "\n",
        "for img_name in sample_files:\n",
        "    img_path = os.path.join(img_folder, img_name)\n",
        "    img = Image.open(img_path).convert('RGB')\n",
        "\n",
        "    # 얼굴 감지 및 crop\n",
        "    face = mtcnn(img)\n",
        "\n",
        "    if face is not None:\n",
        "        # tensor -> PIL 이미지 변환\n",
        "        face_img = face.permute(1, 2, 0).int().cpu().numpy().astype('uint8')\n",
        "        face_img = Image.fromarray(face_img)\n",
        "        cropped_faces.append(face_img)\n",
        "    else:\n",
        "        # 얼굴 못찾으면 원본 이미지 넣기 (대체용)\n",
        "        cropped_faces.append(img)\n"
      ]
    },
    {
      "cell_type": "code",
      "execution_count": null,
      "metadata": {},
      "outputs": [],
      "source": [
        "# 결과 출력 (3행 4열)\n",
        "fig, axes = plt.subplots(3, 4, figsize=(12, 9))\n",
        "axes = axes.flatten()\n",
        "\n",
        "for ax, face_img, fname in zip(axes, cropped_faces, sample_files):\n",
        "    ax.imshow(face_img)\n",
        "    ax.set_title(fname)\n",
        "    ax.axis('off')\n",
        "\n",
        "plt.tight_layout()\n",
        "plt.show()"
      ]
    }
  ],
  "metadata": {
    "colab": {
      "provenance": []
    },
    "kernelspec": {
      "display_name": "Python 3",
      "name": "python3"
    },
    "language_info": {
      "name": "python"
    }
  },
  "nbformat": 4,
  "nbformat_minor": 0
}
