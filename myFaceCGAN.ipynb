{
 "cells": [
  {
   "cell_type": "markdown",
   "id": "8c206bab",
   "metadata": {},
   "source": [
    "### 모듈, dataset 다운로드"
   ]
  },
  {
   "cell_type": "code",
   "execution_count": null,
   "id": "269bd237",
   "metadata": {
    "vscode": {
     "languageId": "plaintext"
    }
   },
   "outputs": [],
   "source": [
    "import os\n",
    "import numpy as np\n",
    "from PIL import Image\n",
    "from sklearn.preprocessing import OneHotEncoder\n",
    "from tensorflow.keras.utils import Sequence\n",
    "import kagglehub\n",
    "\n",
    "dataset_path = kagglehub.dataset_download(\"jangedoo/utkface-new\")\n",
    "image_dir = os.path.join(dataset_path, \"UTKFace\")"
   ]
  },
  {
   "cell_type": "markdown",
   "id": "1ace9c1c",
   "metadata": {},
   "source": [
    "### hyperparameter, 기본 설정"
   ]
  },
  {
   "cell_type": "code",
   "execution_count": null,
   "id": "c04749fb",
   "metadata": {
    "vscode": {
     "languageId": "plaintext"
    }
   },
   "outputs": [],
   "source": [
    "IMG_SIZE = 64\n",
    "MAX_AGE = 116\n",
    "BATCH_SIZE = 64\n",
    "LATENT_DIM = 100\n",
    "EPOCHS = 20000\n",
    "SAVE_INTERVAL = 1000"
   ]
  },
  {
   "cell_type": "markdown",
   "id": "a849f806",
   "metadata": {},
   "source": [
    "### 파일 이름에서 나이 추출"
   ]
  },
  {
   "cell_type": "code",
   "execution_count": null,
   "id": "470847d7",
   "metadata": {
    "vscode": {
     "languageId": "plaintext"
    }
   },
   "outputs": [],
   "source": [
    "def extract_age(filename):\n",
    "    try:\n",
    "        age = int(filename.split('_')[0])\n",
    "        if 1 <= age <= 116:\n",
    "            return age - 1  # shift range to 0-115\n",
    "        else:\n",
    "            return None\n",
    "    except:\n",
    "        return None"
   ]
  },
  {
   "cell_type": "markdown",
   "id": "c17eb47e",
   "metadata": {},
   "source": [
    "### 이미지 불러오기, 나이 설정"
   ]
  },
  {
   "cell_type": "code",
   "execution_count": null,
   "id": "e50f7a6b",
   "metadata": {
    "vscode": {
     "languageId": "plaintext"
    }
   },
   "outputs": [],
   "source": [
    "image_paths = []\n",
    "ages = []\n",
    "\n",
    "for fname in os.listdir(image_dir):\n",
    "    if fname.endswith('.jpg'):\n",
    "        age = extract_age(fname)\n",
    "        if age is not None:\n",
    "            image_paths.append(os.path.join(image_dir, fname))\n",
    "            ages.append(age)\n",
    "\n",
    "ages = np.array(ages).reshape(-1, 1)\n",
    "encoder = OneHotEncoder(sparse_output=False, categories=[np.arange(MAX_AGE)])\n",
    "age_onehot = encoder.fit_transform(ages)"
   ]
  },
  {
   "cell_type": "markdown",
   "id": "f83f31b8",
   "metadata": {},
   "source": [
    "### dataset 배치 단위로 분할"
   ]
  },
  {
   "cell_type": "code",
   "execution_count": null,
   "id": "0380d7a5",
   "metadata": {
    "vscode": {
     "languageId": "plaintext"
    }
   },
   "outputs": [],
   "source": [
    "class UTKFaceDataGenerator(Sequence):\n",
    "    def __init__(self, image_paths, age_labels, batch_size, img_size):\n",
    "        self.image_paths = image_paths\n",
    "        self.age_labels = age_labels\n",
    "        self.batch_size = batch_size\n",
    "        self.img_size = img_size\n",
    "        self.indexes = np.arange(len(self.image_paths))\n",
    "    \n",
    "    def __len__(self):\n",
    "        return int(np.ceil(len(self.image_paths) / self.batch_size))\n",
    "\n",
    "    def __getitem__(self, index):\n",
    "        # Get batch indexes\n",
    "        batch_idx = self.indexes[index * self.batch_size:(index + 1) * self.batch_size]\n",
    "        batch_images = []\n",
    "        batch_conditions = []\n",
    "\n",
    "        for i in batch_idx:\n",
    "            img = Image.open(self.image_paths[i]).convert('RGB')\n",
    "            img = img.resize((self.img_size, self.img_size))\n",
    "            img = np.array(img) / 127.5 - 1.0  # Normalize to [-1, 1]\n",
    "            batch_images.append(img)\n",
    "            batch_conditions.append(self.age_labels[i])\n",
    "\n",
    "        batch_images = np.array(batch_images)\n",
    "        batch_conditions = np.array(batch_conditions)\n",
    "\n",
    "        return [np.array(batch_images), np.array(batch_conditions)]\n",
    "\n",
    "train_generator = UTKFaceDataGenerator(image_paths, age_onehot, BATCH_SIZE, IMG_SIZE)"
   ]
  },
  {
   "cell_type": "markdown",
   "id": "721b1ef7",
   "metadata": {},
   "source": [
    "### Discriminator, Generator 정의"
   ]
  },
  {
   "cell_type": "code",
   "execution_count": null,
   "id": "0ccc6d43",
   "metadata": {
    "vscode": {
     "languageId": "plaintext"
    }
   },
   "outputs": [],
   "source": [
    "from tensorflow.keras import layers, models\n",
    "\n",
    "def Discriminator(img_shape, condition_dim):\n",
    "    input_img = layers.Input(shape=img_shape)\n",
    "    input_cond = layers.Input(shape=(condition_dim,))\n",
    "    \n",
    "    flat_img = layers.Flatten()(input_img)\n",
    "    merged = layers.Concatenate()([flat_img, input_cond])\n",
    "    \n",
    "    x = layers.Dense(256)(merged)\n",
    "    x = layers.LeakyReLU(alpha=0.2)(x)\n",
    "    x = layers.Dense(256)(x)\n",
    "    x = layers.LeakyReLU(alpha=0.2)(x)\n",
    "    x = layers.Dense(1, activation='sigmoid')(x)\n",
    "    \n",
    "    return models.Model([input_img, input_cond], x)\n",
    "\n",
    "def Generator(latent_dim, condition_dim, img_shape):\n",
    "    input_noise = layers.Input(shape=(latent_dim,))\n",
    "    input_cond = layers.Input(shape=(condition_dim,))\n",
    "    \n",
    "    merged = layers.Concatenate()([input_noise, input_cond])\n",
    "    \n",
    "    x = layers.Dense(256)(merged)\n",
    "    x = layers.ReLU()(x)\n",
    "    x = layers.Dense(256)(x)\n",
    "    x = layers.ReLU()(x)\n",
    "    x = layers.Dense(np.prod(img_shape), activation='tanh')(x)\n",
    "    output_img = layers.Reshape(img_shape)(x)\n",
    "    \n",
    "    return models.Model([input_noise, input_cond], output_img)\n",
    "\n",
    "IMG_SHAPE = (IMG_SIZE, IMG_SIZE, 3)\n",
    "AGE_CLASSES = MAX_AGE\n",
    "D = Discriminator(IMG_SHAPE, AGE_CLASSES)\n",
    "G = Generator(LATENT_DIM, AGE_CLASSES, IMG_SHAPE)"
   ]
  },
  {
   "cell_type": "markdown",
   "id": "2275aaeb",
   "metadata": {},
   "source": [
    "### loss, optimizer 설정"
   ]
  },
  {
   "cell_type": "code",
   "execution_count": null,
   "id": "45f8c217",
   "metadata": {
    "vscode": {
     "languageId": "plaintext"
    }
   },
   "outputs": [],
   "source": [
    "from tensorflow.keras.optimizers import Adam\n",
    "from tensorflow.keras.losses import BinaryCrossentropy\n",
    "\n",
    "bce = BinaryCrossentropy()\n",
    "\n",
    "d_optimizer = Adam(learning_rate=0.0002, beta_1=0.5)\n",
    "g_optimizer = Adam(learning_rate=0.0002, beta_1=0.5)"
   ]
  },
  {
   "cell_type": "markdown",
   "id": "1ed1a72c",
   "metadata": {},
   "source": [
    "### 학습 및 샘플 생성"
   ]
  },
  {
   "cell_type": "code",
   "execution_count": null,
   "id": "baeaa70d",
   "metadata": {
    "vscode": {
     "languageId": "plaintext"
    }
   },
   "outputs": [],
   "source": [
    "import tensorflow as tf\n",
    "import matplotlib.pyplot as plt\n",
    "\n",
    "D.trainable = False\n",
    "\n",
    "# 학습 루프 정의\n",
    "@tf.function\n",
    "def train_step(real_images, age_conditions):\n",
    "    batch_size = tf.shape(real_images)[0]\n",
    "    \n",
    "    # ---------------------\n",
    "    #  Train Discriminator\n",
    "    # ---------------------\n",
    "    noise = tf.random.normal([batch_size, LATENT_DIM])\n",
    "    fake_images = G([noise, age_conditions], training=True)\n",
    "\n",
    "    real_labels = tf.ones((batch_size, 1))\n",
    "    fake_labels = tf.zeros((batch_size, 1))\n",
    "\n",
    "    D.trainable = True\n",
    "    with tf.GradientTape() as tape:\n",
    "        d_real = D([real_images, age_conditions], training=True)\n",
    "        d_fake = D([fake_images, age_conditions], training=True)\n",
    "        d_loss_real = bce(real_labels, d_real)\n",
    "        d_loss_fake = bce(fake_labels, d_fake)\n",
    "        d_loss = d_loss_real + d_loss_fake\n",
    "\n",
    "    grads = tape.gradient(d_loss, D.trainable_variables)\n",
    "    d_optimizer.apply_gradients(zip(grads, D.trainable_variables))\n",
    "\n",
    "    # ---------------------\n",
    "    #  Train Generator\n",
    "    # ---------------------\n",
    "    D.trainable = False\n",
    "    noise = tf.random.normal([batch_size, LATENT_DIM])\n",
    "    misleading_labels = tf.ones((batch_size, 1))\n",
    "\n",
    "    with tf.GradientTape() as tape:\n",
    "        generated_images = G([noise, age_conditions], training=True)\n",
    "        d_generated = D([generated_images, age_conditions], training=True)\n",
    "        g_loss = bce(misleading_labels, d_generated)\n",
    "\n",
    "    grads = tape.gradient(g_loss, G.trainable_variables)\n",
    "    g_optimizer.apply_gradients(zip(grads, G.trainable_variables))\n",
    "\n",
    "    return d_loss, g_loss\n",
    "\n",
    "# 샘플 생성 함수\n",
    "def generate_sample_images(epoch, sample_dir=\"samples\"):\n",
    "    os.makedirs(sample_dir, exist_ok=True)\n",
    "    \n",
    "    r, c = 4, 4  # 그릴 샘플 수 (16개)\n",
    "    noise = tf.random.normal([r * c, LATENT_DIM])\n",
    "    \n",
    "    # 10세, 20세, ..., 160세로 설정 (one-hot encoding)\n",
    "    sample_ages = np.linspace(0, AGE_CLASSES - 1, r * c, dtype=int).reshape(-1, 1)\n",
    "    age_conditions = encoder.transform(sample_ages)\n",
    "\n",
    "    gen_imgs = G.predict([noise, age_conditions])\n",
    "    gen_imgs = 0.5 * gen_imgs + 0.5  # [-1, 1] -> [0, 1]\n",
    "\n",
    "    fig, axs = plt.subplots(r, c, figsize=(10, 10))\n",
    "    cnt = 0\n",
    "    for i in range(r):\n",
    "        for j in range(c):\n",
    "            axs[i, j].imshow(gen_imgs[cnt])\n",
    "            axs[i, j].axis('off')\n",
    "            axs[i, j].set_title(f\"Age: {sample_ages[cnt][0]+1}\")\n",
    "            cnt += 1\n",
    "    fig.savefig(f\"{sample_dir}/generated_{epoch}.png\")\n",
    "    plt.close()\n",
    "\n",
    "# 학습 루프 실행\n",
    "steps_per_epoch = len(train_generator)\n",
    "\n",
    "for epoch in range(1, EPOCHS + 1):\n",
    "    step = 0\n",
    "    for batch_imgs, batch_conds in train_generator:\n",
    "        if batch_imgs.shape[0] == 0:\n",
    "            continue\n",
    "        d_loss, g_loss = train_step(batch_imgs, batch_conds)\n",
    "        step += 1\n",
    "\n",
    "        if step % 125 == 0 or step == steps_per_epoch:\n",
    "            d_real = D([batch_imgs, batch_conds], training=False)\n",
    "            noise = tf.random.normal([batch_imgs.shape[0], LATENT_DIM])\n",
    "            fake_imgs = G([noise, tf.convert_to_tensor(batch_conds)], training=False)\n",
    "            d_fake = D([fake_imgs, tf.convert_to_tensor(batch_conds)], training=False)\n",
    "\n",
    "            print(f\"Epoch [{epoch}/{EPOCHS}], Step [{step}/{steps_per_epoch}], \"\n",
    "                  f\"d_loss: {d_loss:.4f}, g_loss: {g_loss:.4f}, \"\n",
    "                  f\"D(x): {tf.reduce_mean(d_real):.2f}, D(G(z)): {tf.reduce_mean(d_fake):.2f}\")\n",
    "\n",
    "\n",
    "    if epoch % SAVE_INTERVAL == 0:\n",
    "        generate_sample_images(epoch)"
   ]
  },
  {
   "cell_type": "markdown",
   "id": "8aa98ba7",
   "metadata": {},
   "source": [
    "### 나이별 이미지 생성"
   ]
  },
  {
   "cell_type": "code",
   "execution_count": null,
   "id": "4554ed7a",
   "metadata": {
    "vscode": {
     "languageId": "plaintext"
    }
   },
   "outputs": [],
   "source": [
    "def generate_images_grid_by_ages(target_ages=[5, 15, 25, 40, 60], samples_per_age=7):\n",
    "    total_images = len(target_ages) * samples_per_age\n",
    "    noise = tf.random.normal([total_images, LATENT_DIM])\n",
    "\n",
    "    # One-hot 조건 벡터 준비\n",
    "    repeated_ages = np.repeat(np.array(target_ages), samples_per_age).reshape(-1, 1)\n",
    "    age_conditions = encoder.transform(repeated_ages)\n",
    "\n",
    "    # 이미지 생성\n",
    "    gen_imgs = G.predict([noise, age_conditions], verbose=0)\n",
    "    gen_imgs = 0.5 * gen_imgs + 0.5  # [-1, 1] → [0, 1]\n",
    "\n",
    "    # 출력\n",
    "    fig, axs = plt.subplots(len(target_ages), samples_per_age, figsize=(samples_per_age * 2, len(target_ages) * 2))\n",
    "    cnt = 0\n",
    "    for row in range(len(target_ages)):\n",
    "        for col in range(samples_per_age):\n",
    "            axs[row, col].imshow(gen_imgs[cnt])\n",
    "            axs[row, col].axis('off')\n",
    "            if col == 0:\n",
    "                axs[row, col].set_ylabel(f'Age {target_ages[row]}', fontsize=12)\n",
    "            cnt += 1\n",
    "\n",
    "    plt.tight_layout()\n",
    "    plt.show()\n",
    "\n",
    "generate_images_grid_by_ages()"
   ]
  }
 ],
 "metadata": {
  "language_info": {
   "name": "python"
  }
 },
 "nbformat": 4,
 "nbformat_minor": 5
}
