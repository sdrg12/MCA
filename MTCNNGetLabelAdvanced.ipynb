{
  "cells": [
    {
      "cell_type": "code",
      "execution_count": null,
      "metadata": {
        "colab": {
          "base_uri": "https://localhost:8080/",
          "height": 400
        },
        "id": "B-sWRtRF8i6B",
        "outputId": "19cb7389-645b-4b97-9e24-40e11b2182c9"
      },
      "outputs": [],
      "source": [
        "!pip install facenet-pytorch matplotlib"
      ]
    },
    {
      "cell_type": "code",
      "execution_count": null,
      "metadata": {},
      "outputs": [],
      "source": [
        "# 원본 사진 파일 불러오기\n",
        "from google.colab import files\n",
        "uploaded = files.upload()\n",
        "!unzip -q part1.zip -d ./part1"
      ]
    },
    {
      "cell_type": "code",
      "execution_count": null,
      "metadata": {},
      "outputs": [],
      "source": [
        "import os\n",
        "from PIL import Image\n",
        "from facenet_pytorch import MTCNN\n",
        "import torch\n",
        "\n",
        "# MTCNN 초기화\n",
        "device = torch.device('cuda' if torch.cuda.is_available() else 'cpu')\n",
        "mtcnn = MTCNN(keep_all=True, device=device)"
      ]
    },
    {
      "cell_type": "code",
      "execution_count": null,
      "metadata": {},
      "outputs": [],
      "source": [
        "# 이미지 폴더\n",
        "img_folder = 'part1'\n",
        "img_files = [f for f in os.listdir(img_folder) if f.lower().endswith('.jpg')]\n",
        "\n",
        "# 출력 폴더들\n",
        "label_folder = 'labels'\n",
        "crop_folder = 'crops'\n",
        "os.makedirs(label_folder, exist_ok=True)\n",
        "os.makedirs(crop_folder, exist_ok=True)\n",
        "\n",
        "# 실패한 파일 기록용 리스트\n",
        "failed_files = []"
      ]
    },
    {
      "cell_type": "code",
      "execution_count": null,
      "metadata": {},
      "outputs": [],
      "source": [
        "for img_name in img_files:\n",
        "    img_path = os.path.join(img_folder, img_name)\n",
        "    img = Image.open(img_path).convert('RGB')\n",
        "    w, h = img.size\n",
        "\n",
        "    try:\n",
        "        boxes, probs = mtcnn.detect(img)  # 얼굴 위치와 confidence score 반환\n",
        "\n",
        "        # === confidence 기준 적용 ===\n",
        "        min_conf = 0.9  # 기준이 너무 엄격하면 아래에서 fallback 수행\n",
        "        if boxes is not None and probs is not None:\n",
        "            filtered_boxes = [box for box, prob in zip(boxes, probs) if prob is not None and prob > min_conf]\n",
        "        else:\n",
        "            filtered_boxes = None\n",
        "\n",
        "        # fallback: 너무 엄격해서 아무것도 감지되지 않았을 경우 완화된 기준으로 재시도\n",
        "        if not filtered_boxes:\n",
        "            min_conf = 0.6  # 완화된 기준\n",
        "            if boxes is not None and probs is not None:\n",
        "                filtered_boxes = [box for box, prob in zip(boxes, probs) if prob is not None and prob > min_conf]\n",
        "\n",
        "        boxes = filtered_boxes if filtered_boxes else None\n",
        "\n",
        "        if boxes is not None:\n",
        "            # 라벨 저장\n",
        "            label_path = os.path.join(label_folder, img_name.replace('.jpg', '.txt'))\n",
        "            with open(label_path, 'w') as f:\n",
        "                for box in boxes:\n",
        "                    x1, y1, x2, y2 = box\n",
        "                    x_center = ((x1 + x2) / 2) / w\n",
        "                    y_center = ((y1 + y2) / 2) / h\n",
        "                    box_w = (x2 - x1) / w\n",
        "                    box_h = (y2 - y1) / h\n",
        "                    f.write(f\"0 {x_center:.6f} {y_center:.6f} {box_w:.6f} {box_h:.6f}\\n\")\n",
        "\n",
        "            # 얼굴 crop 저장\n",
        "            for i, box in enumerate(boxes):\n",
        "                x1, y1, x2, y2 = map(int, box)\n",
        "                face = img.crop((x1, y1, x2, y2))\n",
        "                face_filename = f\"{img_name.replace('.jpg', f'_face{i+1}.jpg')}\"\n",
        "                face.save(os.path.join(crop_folder, face_filename))\n",
        "        else:\n",
        "            print(f\"얼굴 감지 실패: {img_name}\")\n",
        "            failed_files.append(img_name)\n",
        "\n",
        "    except Exception as e:\n",
        "        print(f\"오류 발생: {img_name}, 오류 메시지: {str(e)}\")\n",
        "        failed_files.append(img_name)"
      ]
    },
    {
      "cell_type": "code",
      "execution_count": null,
      "metadata": {},
      "outputs": [],
      "source": [
        "# 요약 출력\n",
        "print(\"\\n=== 처리 요약 ===\")\n",
        "print(f\"총 {len(failed_files)}개 파일에서 얼굴 감지 실패 또는 오류 발생\")\n",
        "if failed_files:\n",
        "    print(\"실패 파일 목록:\")\n",
        "    for name in failed_files:\n",
        "        print(\" -\", name)"
      ]
    },
    {
      "cell_type": "code",
      "execution_count": null,
      "metadata": {},
      "outputs": [],
      "source": [
        "# label 저장\n",
        "!zip -r part1_labels.zip labels\n",
        "from google.colab import files\n",
        "files.download('part1_labels.zip')\n",
        "\n",
        "# crop된 사진 저장\n",
        "!zip -r part1_crops.zip crops\n",
        "files.download('part1_crops.zip')"
      ]
    }
  ],
  "metadata": {
    "colab": {
      "provenance": []
    },
    "kernelspec": {
      "display_name": "Python 3",
      "name": "python3"
    },
    "language_info": {
      "name": "python"
    }
  },
  "nbformat": 4,
  "nbformat_minor": 0
}
