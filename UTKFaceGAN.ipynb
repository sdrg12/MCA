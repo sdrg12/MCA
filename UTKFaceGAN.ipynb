{
 "cells": [
  {
   "cell_type": "markdown",
   "id": "390c849e",
   "metadata": {},
   "source": [
    "### GAD 구현"
   ]
  },
  {
   "cell_type": "code",
   "execution_count": null,
   "id": "5e3a5651",
   "metadata": {
    "vscode": {
     "languageId": "plaintext"
    }
   },
   "outputs": [],
   "source": [
    "import torch\n",
    "import torch.nn as nn\n",
    "\n",
    "# 이미지 크기\n",
    "IMAGE_SIZE = 64\n",
    "Z_DIM = 100\n",
    "\n",
    "# Generator\n",
    "class Generator(nn.Module):\n",
    "    def __init__(self, z_dim=Z_DIM):\n",
    "        super().__init__()\n",
    "        self.model = nn.Sequential(\n",
    "            nn.Linear(z_dim, 256*8*8),\n",
    "            nn.BatchNorm1d(256*8*8),\n",
    "            nn.ReLU(True),\n",
    "            nn.Unflatten(1, (256, 8, 8)),\n",
    "            nn.ConvTranspose2d(256, 128, 4, stride=2, padding=1),  # (16x16)\n",
    "            nn.BatchNorm2d(128),\n",
    "            nn.ReLU(True),\n",
    "            nn.ConvTranspose2d(128, 64, 4, stride=2, padding=1),   # (32x32)\n",
    "            nn.BatchNorm2d(64),\n",
    "            nn.ReLU(True),\n",
    "            nn.ConvTranspose2d(64, 3, 4, stride=2, padding=1),     # (64x64)\n",
    "            nn.Tanh()  # [-1, 1]로 정규화\n",
    "        )\n",
    "\n",
    "    def forward(self, z):\n",
    "        return self.model(z)\n",
    "\n",
    "# Discriminator\n",
    "class Discriminator(nn.Module):\n",
    "    def __init__(self):\n",
    "        super().__init__()\n",
    "        self.model = nn.Sequential(\n",
    "            nn.Conv2d(3, 64, 4, stride=2, padding=1),   # (32x32)\n",
    "            nn.LeakyReLU(0.2, inplace=True),\n",
    "            nn.Conv2d(64, 128, 4, stride=2, padding=1),  # (16x16)\n",
    "            nn.BatchNorm2d(128),\n",
    "            nn.LeakyReLU(0.2, inplace=True),\n",
    "            nn.Conv2d(128, 256, 4, stride=2, padding=1),  # (8x8)\n",
    "            nn.BatchNorm2d(256),\n",
    "            nn.LeakyReLU(0.2, inplace=True),\n",
    "            nn.Flatten(),\n",
    "            nn.Linear(256*8*8, 1),\n",
    "            nn.Sigmoid()\n",
    "        )\n",
    "\n",
    "    def forward(self, img):\n",
    "        return self.model(img)"
   ]
  },
  {
   "cell_type": "markdown",
   "id": "39d63956",
   "metadata": {},
   "source": [
    "### 학습 루프"
   ]
  },
  {
   "cell_type": "code",
   "execution_count": null,
   "id": "d677226a",
   "metadata": {
    "vscode": {
     "languageId": "plaintext"
    }
   },
   "outputs": [],
   "source": [
    "# 예시 학습 루프 요약\n",
    "for epoch in range(num_epochs):\n",
    "    for real_imgs, _ in dataloader:\n",
    "        # ---------------------\n",
    "        # 1. Train Discriminator\n",
    "        # ---------------------\n",
    "        optimizer_D.zero_grad()\n",
    "        real_validity = D(real_imgs)\n",
    "        z = torch.randn(batch_size, Z_DIM).to(device)\n",
    "        fake_imgs = G(z)\n",
    "        fake_validity = D(fake_imgs.detach())\n",
    "        d_loss = BCE(real_validity, torch.ones_like(real_validity)) + \\\n",
    "                 BCE(fake_validity, torch.zeros_like(fake_validity))\n",
    "        d_loss.backward()\n",
    "        optimizer_D.step()\n",
    "\n",
    "        # ---------------------\n",
    "        # 2. Train Generator\n",
    "        # ---------------------\n",
    "        optimizer_G.zero_grad()\n",
    "        fake_validity = D(fake_imgs)\n",
    "        g_loss = BCE(fake_validity, torch.ones_like(fake_validity))  # Generator wants D(G(z)) = 1\n",
    "        g_loss.backward()\n",
    "        optimizer_G.step()\n"
   ]
  }
 ],
 "metadata": {
  "language_info": {
   "name": "python"
  }
 },
 "nbformat": 4,
 "nbformat_minor": 5
}
