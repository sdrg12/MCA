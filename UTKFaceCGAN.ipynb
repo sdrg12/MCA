{
 "cells": [
  {
   "cell_type": "markdown",
   "id": "708424d8",
   "metadata": {},
   "source": [
    "### CGAD 구현"
   ]
  },
  {
   "cell_type": "code",
   "execution_count": null,
   "id": "5e3a5651",
   "metadata": {
    "vscode": {
     "languageId": "plaintext"
    }
   },
   "outputs": [],
   "source": [
    "import torch\n",
    "import torch.nn as nn\n",
    "\n",
    "class ConditionalGenerator(nn.Module):\n",
    "    def __init__(self, z_dim=100, age_dim=116):\n",
    "        super().__init__()\n",
    "        self.label_emb = nn.Linear(age_dim, 50)  # age one-hot → 50차원\n",
    "\n",
    "        self.model = nn.Sequential(\n",
    "            nn.Linear(z_dim + 50, 256 * 8 * 8),\n",
    "            nn.BatchNorm1d(256 * 8 * 8),\n",
    "            nn.ReLU(True),\n",
    "            nn.Unflatten(1, (256, 8, 8)),\n",
    "            nn.ConvTranspose2d(256, 128, 4, 2, 1),\n",
    "            nn.BatchNorm2d(128),\n",
    "            nn.ReLU(True),\n",
    "            nn.ConvTranspose2d(128, 64, 4, 2, 1),\n",
    "            nn.BatchNorm2d(64),\n",
    "            nn.ReLU(True),\n",
    "            nn.ConvTranspose2d(64, 3, 4, 2, 1),\n",
    "            nn.Tanh()\n",
    "        )\n",
    "\n",
    "    def forward(self, z, age_onehot):\n",
    "        label_embedding = self.label_emb(age_onehot)\n",
    "        x = torch.cat([z, label_embedding], dim=1)\n",
    "        return self.model(x)\n",
    "\n",
    "class ConditionalDiscriminator(nn.Module):\n",
    "    def __init__(self, age_dim=116):\n",
    "        super().__init__()\n",
    "        self.label_emb = nn.Linear(age_dim, IMAGE_SIZE * IMAGE_SIZE)  # 조건을 (64x64)로 broadcast\n",
    "\n",
    "        self.model = nn.Sequential(\n",
    "            nn.Conv2d(4, 64, 4, 2, 1),  # 3채널 + 1조건 → 4채널\n",
    "            nn.LeakyReLU(0.2),\n",
    "            nn.Conv2d(64, 128, 4, 2, 1),\n",
    "            nn.BatchNorm2d(128),\n",
    "            nn.LeakyReLU(0.2),\n",
    "            nn.Conv2d(128, 256, 4, 2, 1),\n",
    "            nn.BatchNorm2d(256),\n",
    "            nn.LeakyReLU(0.2),\n",
    "            nn.Flatten(),\n",
    "            nn.Linear(256 * 8 * 8, 1),\n",
    "            nn.Sigmoid()\n",
    "        )\n",
    "\n",
    "    def forward(self, img, age_onehot):\n",
    "        label = self.label_emb(age_onehot).view(-1, 1, IMAGE_SIZE, IMAGE_SIZE)\n",
    "        x = torch.cat([img, label], dim=1)  # concat along channel\n",
    "        return self.model(x)\n"
   ]
  },
  {
   "cell_type": "markdown",
   "id": "39d63956",
   "metadata": {},
   "source": [
    "### 학습 루프"
   ]
  },
  {
   "cell_type": "code",
   "execution_count": null,
   "id": "d677226a",
   "metadata": {
    "vscode": {
     "languageId": "plaintext"
    }
   },
   "outputs": [],
   "source": [
    "for real_imgs, age_labels in dataloader:\n",
    "    # 1. Age one-hot encoding\n",
    "    age_onehot = F.one_hot(age_labels, num_classes=116).float().to(device)\n",
    "\n",
    "    # 2. Train Discriminator\n",
    "    optimizer_D.zero_grad()\n",
    "    real_validity = D(real_imgs, age_onehot)\n",
    "    z = torch.randn(batch_size, Z_DIM).to(device)\n",
    "    fake_imgs = G(z, age_onehot)\n",
    "    fake_validity = D(fake_imgs.detach(), age_onehot)\n",
    "    d_loss = BCE(real_validity, torch.ones_like(real_validity)) + \\\n",
    "             BCE(fake_validity, torch.zeros_like(fake_validity))\n",
    "    d_loss.backward()\n",
    "    optimizer_D.step()\n",
    "\n",
    "    # 3. Train Generator\n",
    "    optimizer_G.zero_grad()\n",
    "    fake_validity = D(fake_imgs, age_onehot)\n",
    "    g_loss = BCE(fake_validity, torch.ones_like(fake_validity))\n",
    "    g_loss.backward()\n",
    "    optimizer_G.step()"
   ]
  },
  {
   "cell_type": "markdown",
   "id": "eba285d4",
   "metadata": {},
   "source": [
    "### 시각화"
   ]
  },
  {
   "cell_type": "code",
   "execution_count": null,
   "id": "a97068cd",
   "metadata": {
    "vscode": {
     "languageId": "plaintext"
    }
   },
   "outputs": [],
   "source": [
    "# 특정 나이대의 얼굴 생성\n",
    "target_age = 25\n",
    "age_cond = torch.nn.functional.one_hot(torch.tensor([target_age]), num_classes=116).float().to(device)\n",
    "z = torch.randn(1, Z_DIM).to(device)\n",
    "fake_img = G(z, age_cond)\n",
    "show_tensor_image(fake_img)"
   ]
  }
 ],
 "metadata": {
  "language_info": {
   "name": "python"
  }
 },
 "nbformat": 4,
 "nbformat_minor": 5
}
